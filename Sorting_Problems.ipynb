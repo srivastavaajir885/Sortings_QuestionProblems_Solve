{
 "cells": [
  {
   "cell_type": "markdown",
   "id": "9d3c867f-14e9-461f-8e56-a76b7550a589",
   "metadata": {},
   "source": [
    "Problem 1.Given an array of n numbers, give an algorithm which gives the element appearing maximum\n",
    "number of times?\n",
    "\n",
    "Problem 2 : We are given a list of n-1 integers and these integers are in the range of 1 to n . There are no\n",
    "duplicates in the list. One of the integers is missing in the list. Give an algorithm to find that element Ex:\n",
    "[1,2,4,6,3,7,8] 5 is the missing num.\n",
    "\n",
    "Problem 3 : Given an array of n positive numbers. All numbers occurs even number of times except 1 which\n",
    "occurs odd number of times. Find that number in O(n) time and O(1) space. Ex: [1,2,3,2,3,1,3]. 3 is repeats odd\n",
    "times.\n",
    "\n",
    "Problem 4 : Given an array of n elements. Find two elements in the array such that their sum is equal to given\n",
    "element K.\n",
    "\n",
    "Problem 5 : Given an array of both positive and negative numbers, find two numbers such that their sum is\n",
    "closest to 0. Ex: [ 1 ,60 ,-10, 70, -80,85]. Ans : -80,85.\n",
    "\n",
    "Problem 6 : Given an array of n elements . Find three elements such that their sum is equal to the given\n",
    "number.\n",
    "\n",
    "Problem 7 : Given an array of n elements . Find three elements i, j, k in the array such that\n",
    "i * i + j * j = k*k.\n",
    "\n",
    "Problem 8 : An element is a majority if it appears more than n/2 times. Give an algorithm takes an array of n\n",
    "element as argument and identifies a majority (if it exists).\n",
    "\n",
    "Problem 9 : Given n × n matrix, and in each row all 1’s are followed by 0’s. Find the row with the maximum\n",
    "number of 0’s.\n",
    "\n",
    "Problem 10 : Sort an array of 0’s, 1’s and 2’s [or R’s, G’s and B’s]: Given an array A[] consisting of 0’s, 1’s and\n",
    "2’s, give an algorithm for sorting A[].The algorithm should put all 0’s first, then all 1’s and finally all 2’s at the\n",
    "end. Example Input = {0,1,1,0,1,2,1,2,0,0,0,1}, Output = {0,0,0,0,0,1,1,1,1,1,2,2}"
   ]
  },
  {
   "cell_type": "code",
   "execution_count": 1,
   "id": "4da91e3a-198a-4f74-8fb1-2e940dbed30f",
   "metadata": {},
   "outputs": [
    {
     "name": "stdout",
     "output_type": "stream",
     "text": [
      "Most frequent element: 4\n"
     ]
    }
   ],
   "source": [
    "def most_frequent_element(arr):\n",
    "    frequency = {}\n",
    "    max_count = 0\n",
    "    most_frequent = None\n",
    "    for num in arr:\n",
    "        frequency[num] = frequency.get(num, 0) + 1\n",
    "        if frequency[num] > max_count:\n",
    "            max_count = frequency[num]\n",
    "            most_frequent = num\n",
    "    return most_frequent\n",
    "\n",
    "# Example usage:\n",
    "arr = [1, 2, 2, 3, 3, 3, 4, 4, 4, 4]\n",
    "print(\"Most frequent element:\", most_frequent_element(arr))\n"
   ]
  },
  {
   "cell_type": "code",
   "execution_count": 2,
   "id": "356f98c2-90dd-414c-bcc4-c51376aed3a6",
   "metadata": {},
   "outputs": [
    {
     "name": "stdout",
     "output_type": "stream",
     "text": [
      "Missing number: 5\n"
     ]
    }
   ],
   "source": [
    "def find_missing_number(arr):\n",
    "    n = len(arr) + 1\n",
    "    total_sum = n * (n + 1) // 2\n",
    "    actual_sum = sum(arr)\n",
    "    return total_sum - actual_sum\n",
    "\n",
    "# Example usage:\n",
    "arr = [1, 2, 4, 6, 3, 7, 8]\n",
    "print(\"Missing number:\", find_missing_number(arr))\n"
   ]
  },
  {
   "cell_type": "code",
   "execution_count": 3,
   "id": "985c7a8c-6c2c-42f1-9a5e-4e14b77c018f",
   "metadata": {},
   "outputs": [
    {
     "name": "stdout",
     "output_type": "stream",
     "text": [
      "Odd occurring number: 3\n"
     ]
    }
   ],
   "source": [
    "def find_odd_occurrence(arr):\n",
    "    result = 0\n",
    "    for num in arr:\n",
    "        result ^= num\n",
    "    return result\n",
    "\n",
    "# Example usage:\n",
    "arr = [1, 2, 3, 2, 3, 1, 3]\n",
    "print(\"Odd occurring number:\", find_odd_occurrence(arr))\n"
   ]
  },
  {
   "cell_type": "code",
   "execution_count": 4,
   "id": "b2212f8a-369e-42ae-91fb-197db9021ba3",
   "metadata": {},
   "outputs": [
    {
     "name": "stdout",
     "output_type": "stream",
     "text": [
      "Pair with sum 10 : (4, 6)\n"
     ]
    }
   ],
   "source": [
    "def find_pair_with_sum(arr, K):\n",
    "    seen = set()\n",
    "    for num in arr:\n",
    "        complement = K - num\n",
    "        if complement in seen:\n",
    "            return complement, num\n",
    "        seen.add(num)\n",
    "    return None\n",
    "\n",
    "# Example usage:\n",
    "arr = [1, 4, 2, 6, 8, 3]\n",
    "K = 10\n",
    "pair = find_pair_with_sum(arr, K)\n",
    "if pair:\n",
    "    print(\"Pair with sum\", K, \":\", pair)\n",
    "else:\n",
    "    print(\"No pair with sum\", K, \"found\")\n"
   ]
  },
  {
   "cell_type": "code",
   "execution_count": 5,
   "id": "84457afa-68f4-4211-bf61-b3cf206ad9a0",
   "metadata": {},
   "outputs": [
    {
     "name": "stdout",
     "output_type": "stream",
     "text": [
      "Pair closest to zero: (-80, 85)\n"
     ]
    }
   ],
   "source": [
    "def closest_to_zero(arr):\n",
    "    arr.sort()\n",
    "    min_sum = float('inf')\n",
    "    closest_pair = None\n",
    "    left, right = 0, len(arr) - 1\n",
    "    while left < right:\n",
    "        current_sum = arr[left] + arr[right]\n",
    "        if abs(current_sum) < abs(min_sum):\n",
    "            min_sum = current_sum\n",
    "            closest_pair = (arr[left], arr[right])\n",
    "        if current_sum < 0:\n",
    "            left += 1\n",
    "        else:\n",
    "            right -= 1\n",
    "    return closest_pair\n",
    "\n",
    "# Example usage:\n",
    "arr = [1, 60, -10, 70, -80, 85]\n",
    "print(\"Pair closest to zero:\", closest_to_zero(arr))\n"
   ]
  },
  {
   "cell_type": "code",
   "execution_count": 6,
   "id": "ad716e7b-6198-45f3-8008-e19b4a700db5",
   "metadata": {},
   "outputs": [
    {
     "name": "stdout",
     "output_type": "stream",
     "text": [
      "Three elements with sum 0 : (-1, -1, 2)\n"
     ]
    }
   ],
   "source": [
    "def three_sum(arr, target):\n",
    "    arr.sort()\n",
    "    n = len(arr)\n",
    "    for i in range(n - 2):\n",
    "        left, right = i + 1, n - 1\n",
    "        while left < right:\n",
    "            current_sum = arr[i] + arr[left] + arr[right]\n",
    "            if current_sum == target:\n",
    "                return arr[i], arr[left], arr[right]\n",
    "            elif current_sum < target:\n",
    "                left += 1\n",
    "            else:\n",
    "                right -= 1\n",
    "    return None\n",
    "\n",
    "# Example usage:\n",
    "arr = [-1, 0, 1, 2, -1, -4]\n",
    "target = 0\n",
    "print(\"Three elements with sum\", target, \":\", three_sum(arr, target))\n"
   ]
  },
  {
   "cell_type": "code",
   "execution_count": 7,
   "id": "5b29f7bf-3706-43e9-849e-d879aeb27a2b",
   "metadata": {},
   "outputs": [
    {
     "name": "stdout",
     "output_type": "stream",
     "text": [
      "Pythagorean triplet: (3, 4, 5)\n"
     ]
    }
   ],
   "source": [
    "def find_pythagorean_triplet(arr):\n",
    "    arr.sort()\n",
    "    n = len(arr)\n",
    "    for k in range(n - 1, 1, -1):\n",
    "        left, right = 0, k - 1\n",
    "        while left < right:\n",
    "            sum_squares = arr[left] * arr[left] + arr[right] * arr[right]\n",
    "            if sum_squares == arr[k] * arr[k]:\n",
    "                return arr[left], arr[right], arr[k]\n",
    "            elif sum_squares < arr[k] * arr[k]:\n",
    "                left += 1\n",
    "            else:\n",
    "                right -= 1\n",
    "    return None\n",
    "\n",
    "# Example usage:\n",
    "arr = [3, 1, 4, 6, 5]\n",
    "print(\"Pythagorean triplet:\", find_pythagorean_triplet(arr))\n"
   ]
  },
  {
   "cell_type": "code",
   "execution_count": 8,
   "id": "1e703ed1-2f12-4261-8ddc-1148f2273059",
   "metadata": {},
   "outputs": [
    {
     "name": "stdout",
     "output_type": "stream",
     "text": [
      "Majority element: 4\n"
     ]
    }
   ],
   "source": [
    "def find_majority_element(arr):\n",
    "    count = 0\n",
    "    candidate = None\n",
    "    for num in arr:\n",
    "        if count == 0:\n",
    "            candidate = num\n",
    "            count += 1\n",
    "        elif num == candidate:\n",
    "            count += 1\n",
    "        else:\n",
    "            count -= 1\n",
    "\n",
    "    # Verify if candidate is majority element\n",
    "    count = 0\n",
    "    for num in arr:\n",
    "        if num == candidate:\n",
    "            count += 1\n",
    "    if count > len(arr) // 2:\n",
    "        return candidate\n",
    "    else:\n",
    "        return None\n",
    "\n",
    "# Example usage:\n",
    "arr = [3, 3, 4, 2, 4, 4, 2, 4, 4]\n",
    "majority_element = find_majority_element(arr)\n",
    "if majority_element:\n",
    "    print(\"Majority element:\", majority_element)\n",
    "else:\n",
    "    print(\"No majority element found\")\n"
   ]
  },
  {
   "cell_type": "code",
   "execution_count": null,
   "id": "e9fde9f4-77d9-4af2-b2a4-7cf3976e5ab3",
   "metadata": {},
   "outputs": [],
   "source": []
  }
 ],
 "metadata": {
  "kernelspec": {
   "display_name": "Python 3 (ipykernel)",
   "language": "python",
   "name": "python3"
  },
  "language_info": {
   "codemirror_mode": {
    "name": "ipython",
    "version": 3
   },
   "file_extension": ".py",
   "mimetype": "text/x-python",
   "name": "python",
   "nbconvert_exporter": "python",
   "pygments_lexer": "ipython3",
   "version": "3.10.8"
  }
 },
 "nbformat": 4,
 "nbformat_minor": 5
}
